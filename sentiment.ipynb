{
 "cells": [
  {
   "cell_type": "code",
   "execution_count": 21,
   "metadata": {},
   "outputs": [
    {
     "name": "stdout",
     "output_type": "stream",
     "text": [
      "Requirement already satisfied: textblob in /Users/yg/anaconda2/lib/python2.7/site-packages\n",
      "Requirement already satisfied: nltk>=3.1 in /Users/yg/anaconda2/lib/python2.7/site-packages (from textblob)\n",
      "Requirement already satisfied: six in /Users/yg/anaconda2/lib/python2.7/site-packages (from nltk>=3.1->textblob)\n",
      "\u001b[33mYou are using pip version 9.0.1, however version 10.0.1 is available.\n",
      "You should consider upgrading via the 'pip install --upgrade pip' command.\u001b[0m\n"
     ]
    }
   ],
   "source": [
    "!pip install textblob"
   ]
  },
  {
   "cell_type": "code",
   "execution_count": 39,
   "metadata": {
    "collapsed": true
   },
   "outputs": [],
   "source": [
    "# General:\n",
    "import tweepy           # To consume Twitter's API\n",
    "import pandas as pd     # To handle data\n",
    "import numpy as np      # For number computing\n",
    "\n",
    "# For plotting and visualization:\n",
    "from IPython.display import display\n",
    "import matplotlib.pyplot as plt\n",
    "import seaborn as sns\n",
    "%matplotlib inline"
   ]
  },
  {
   "cell_type": "code",
   "execution_count": 46,
   "metadata": {},
   "outputs": [
    {
     "name": "stdout",
     "output_type": "stream",
     "text": [
      "Box Office: ‘Avengers: Infinity War’ to Hit $1 Billion in Record Time https://t.co/jdbNYMC8gv\n",
      "Sentiment(polarity=0.0, subjectivity=0.0)\n",
      "RT @ClutchLikeRomo: Yo imagine how wild it would be if you watching Avengers and Thanos snap his fingers and the dude next to you fuckin di…\n",
      "Sentiment(polarity=0.05, subjectivity=0.2)\n",
      "RT @peteromaximoff: next year: avengers 4 comes out, tom holland still hasn’t seen it, tom holland doesn’t even know what his part was in t…\n",
      "Sentiment(polarity=0.0, subjectivity=0.0)\n",
      "RT @Chutikarn2: โว้ยยยยยยย สงสารน้องง 😂 #SpiderMan #SpiderManHomecoming #InfinityWarTH #Avengers #infinitywar https://t.co/tRcFekRDKc\n",
      "Sentiment(polarity=0.0, subjectivity=0.0)\n",
      "RT @HoneyJoonie94: Saw this on our way to watch the Avengers movie ㅠㅠ #BTS @BTS_twt #RM #jin #suga #jhope #jimin #v #jungkook #ot7 https://…\n",
      "Sentiment(polarity=0.0, subjectivity=0.0)\n",
      "Avengers ok but ending tergantung zzz 😂\n",
      "Sentiment(polarity=0.5, subjectivity=0.5)\n",
      "RT @ClutchLikeRomo: Yo imagine how wild it would be if you watching Avengers and Thanos snap his fingers and the dude next to you fuckin di…\n",
      "Sentiment(polarity=0.05, subjectivity=0.2)\n",
      "HOT TOYS 1/4 MARVEL AVENGERS QS006 IRON MAN MK45 MARK XLV MASTERPIECE FIGURE NEW https://t.co/ZfbgeFV0cZ https://t.co/zm6Bw5IR91\n",
      "Sentiment(polarity=0.19318181818181818, subjectivity=0.6522727272727273)\n",
      "RT @ClutchLikeRomo: Yo imagine how wild it would be if you watching Avengers and Thanos snap his fingers and the dude next to you fuckin di…\n",
      "Sentiment(polarity=0.05, subjectivity=0.2)\n",
      "RT @ThanakritKJohn: 555555555555555555555555555555555555555555555555\n",
      "รวมพลคนสติไม่ดี \n",
      "///We save the world. We are avengers😏 #InfinityWars…\n",
      "Sentiment(polarity=0.0, subjectivity=0.0)\n",
      "RT @Bosslogic: #justdoit 👀 #infinitywar\n",
      "@Avengers @Russo_Brothers https://t.co/ihweN0QV9A\n",
      "Sentiment(polarity=0.0, subjectivity=0.0)\n",
      "im gonna meet the avengers. good bye bitches https://t.co/pOrWKzI7uZ\n",
      "Sentiment(polarity=0.7, subjectivity=0.6000000000000001)\n",
      "RT @ClutchLikeRomo: Yo imagine how wild it would be if you watching Avengers and Thanos snap his fingers and the dude next to you fuckin di…\n",
      "Sentiment(polarity=0.05, subjectivity=0.2)\n",
      "@WhiffenYT @hannahjihyun @Ethkas @Avengers Cough soul stone cough\n",
      "Sentiment(polarity=0.0, subjectivity=0.0)\n",
      "RT @JamesGunn: Wow! #InfinityWar is the fastest film to $1 billion. https://t.co/nFAwZhshYZ\n",
      "Sentiment(polarity=0.125, subjectivity=1.0)\n"
     ]
    }
   ],
   "source": [
    "import tweepy\n",
    "from textblob import TextBlob\n",
    "\n",
    "def twitter_setup():\n",
    "    access_token = \"869029163621011456-O6WTJ8f69lgS2QbKmSKaaArrH7B85gv\"\n",
    "    access_token_secret = \"8PBcVbEnbzwZYkcio54UAfPjtHt8DPefhGu8g1MCqRETf\"\n",
    "    consumer_key = \"YNbbzwptxB8rvd0rbHIFywaO3\"\n",
    "    consumer_secret = \"Yxrt25DaGSmLyfqowfc9kjY3YTY6feJJ7igmzHro3EIHOTnH9g\"\n",
    "    auth = tweepy.OAuthHandler(\"YNbbzwptxB8rvd0rbHIFywaO3\",\"Yxrt25DaGSmLyfqowfc9kjY3YTY6feJJ7igmzHro3EIHOTnH9g\")\n",
    "    auth.set_access_token(\"869029163621011456-O6WTJ8f69lgS2QbKmSKaaArrH7B85gv\", \"8PBcVbEnbzwZYkcio54UAfPjtHt8DPefhGu8g1MCqRETf\")\n",
    "    api = tweepy.API(auth)\n",
    "public_tweets = api.search('Avengers')\n",
    "\n",
    "for tweet in public_tweets:\n",
    "    print(tweet.text)\n",
    "    analysis = TextBlob(tweet.text)\n",
    "    print (analysis.sentiment)\n",
    "\n"
   ]
  },
  {
   "cell_type": "code",
   "execution_count": 50,
   "metadata": {},
   "outputs": [
    {
     "data": {
      "text/plain": [
       "<matplotlib.legend.Legend at 0x110313950>"
      ]
     },
     "execution_count": 50,
     "metadata": {},
     "output_type": "execute_result"
    },
    {
     "data": {
      "image/png": "[encoded data removed]",
      "text/plain": [
       "<Figure size 432x288 with 1 Axes>"
      ]
     },
     "metadata": {},
     "output_type": "display_data"
    }
   ],
   "source": [
    "import matplotlib.pyplot as plt\n",
    "\n",
    "plt.title(\"Sentiment Analysis\")\n",
    "plt.xlabel(\"x\")\n",
    "plt.ylabel(\"y\")\n",
    "\n",
    "plt.plot(analysis, 'bo')\n",
    "\n",
    "plt.legend()\n"
   ]
  },
  {
   "cell_type": "code",
   "execution_count": null,
   "metadata": {
    "collapsed": true
   },
   "outputs": [],
   "source": []
  }
 ],
 "metadata": {
  "kernelspec": {
   "display_name": "Python 2",
   "language": "python",
   "name": "python2"
  },
  "language_info": {
   "codemirror_mode": {
    "name": "ipython",
    "version": 2
   },
   "file_extension": ".py",
   "mimetype": "text/x-python",
   "name": "python",
   "nbconvert_exporter": "python",
   "pygments_lexer": "ipython2",
   "version": "2.7.14"
  }
 },
 "nbformat": 4,
 "nbformat_minor": 2
}
