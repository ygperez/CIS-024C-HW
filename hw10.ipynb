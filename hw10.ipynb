{
 "cells": [
  {
   "cell_type": "markdown",
   "metadata": {},
   "source": [
    "\n",
    "# CIS024C - Spring 2018 - Monday 5:30-9:25pm \n",
    "\n",
    "## Homework 10\n",
    "\n",
    "Homework 10 covers object oriented programming in Python\n",
    "\n",
    "The below sites have some interesting and useful information on working with files\n",
    "\n",
    "https://drive.google.com/open?id=1OrcpXEmhvgcJxSlchIBsvmXST0lG_uKx\n",
    "http://www.tutorialspoint.com/python/python_classes_objects.htm\n",
    "\n",
    "You will need to download this notebook and use this as a starting point for your homework. You will just need to fill in the content of each code-block (cell) and execute. Once you have completed all the exercises, you will need to save and upload this to your github repository under a folder called hw10.\n",
    "\n",
    "Note also the exercises build on top of one another so you might be able to do the next exercise if you have not completed the previous exercise.\n",
    "\n",
    "Post any questions you have on our Slack at **cis-024c1.slack.com**\n",
    "\n",
    "** Slides ** for Week 10 can be found at \n",
    "\n",
    "https://docs.google.com/presentation/d/1AigvCKV1yb3PrrcT5xt3IqyAwGpv6IKMNWYUiQ2Oy6k/edit?usp=sharing\n",
    "\n",
    "**Please refer back to hw1 and slack for instructions on how to setup your computer for developing using Python.**"
   ]
  },
  {
   "cell_type": "markdown",
   "metadata": {},
   "source": [
    "### Helpful Jupyter Commands\n",
    "\n",
    "Below are some useful commands to know when using Jupyter\n",
    "\n",
    "1. You can add a new cell by clicking on the \"+\" icon on top.\n",
    "2. You can delete a cell by selecting that cell and clicking on the \"scissors\" icon on top.\n",
    "3. You can execute a cell by either pressing shift+enter or selecting the \"play\" button on top.\n",
    "4. You can create a new file in Jupyter via the File menu->New Notebook option. Make sure to select Python 2 when creating your notebook.\n",
    "5. Also, for your code blocks make sure that Code is selected instead of another option like Markdown.\n",
    "6. Use the Enter key to go to the next line in a cell to enter the next statement.\n",
    "7. You can clear results by clicking on the Cell menu item and selecting Current Output->Clear or All Output->Clear depending on whether you are trying to just clear the output for one cell or for all cells.\n",
    "8. In case your program has crashed for some reason (infinite loop, for example), you can restart your Python session by select Kernel in the menu and selecting Restart.\n"
   ]
  },
  {
   "cell_type": "markdown",
   "metadata": {},
   "source": [
    "#### Check Python Version"
   ]
  },
  {
   "cell_type": "code",
   "execution_count": null,
   "metadata": {
    "collapsed": true
   },
   "outputs": [],
   "source": [
    "!python --version"
   ]
  },
  {
   "cell_type": "markdown",
   "metadata": {},
   "source": [
    "#### Sample Exercises with Exception Handling\n",
    "\n",
    "Week 10 Class Work can be found here\n",
    "\n",
    "https://github.com/cis024c/spring2018classwork/blob/master/week10/classwork_04162018.ipynb"
   ]
  },
  {
   "cell_type": "markdown",
   "metadata": {},
   "source": [
    "**Exercise 1 - Testing your knowledge of object oriented programming concepts **\n",
    "\n",
    "Answer the below questions\n",
    "\n",
    "1. Why do we need classes?\n",
    "2. What is encapsulation?"
   ]
  },
  {
   "cell_type": "markdown",
   "metadata": {},
   "source": [
    "1. Classes are needed because they allow us to create a blueprint. The blue print (class) will then allow us to create objects and methods with distinct attributes.\n",
    "2. An encapsulation allows you to protect data from being changed. This is done by restricting access to methods and variables."
   ]
  },
  {
   "cell_type": "markdown",
   "metadata": {},
   "source": [
    "** Exercise 2 - Class creation **\n",
    "\n",
    "Create a Python class named **Employee** with the following attributes and methods\n",
    "\n",
    "Data members\n",
    "```\n",
    "1. employeeName  - type string\n",
    "2. employeeAge  - type int\n",
    "3. employeeSalary - type float\n",
    "```\n",
    "\n",
    "Methods:\n",
    "```\n",
    "1. getEmployee - returns employee name\n",
    "2. getEmployeeAge - gets the employee age\n",
    "3. getEmployeeSalary - returns the employee salary\n",
    "4. __init__ - initialize method accepts the name, age and salary of the employee\n",
    "```\n",
    "\n",
    "Create an object of type Employee and initialize with arbitrary values. Invoke the get methods and display the result."
   ]
  },
  {
   "cell_type": "code",
   "execution_count": 60,
   "metadata": {
    "collapsed": true
   },
   "outputs": [],
   "source": [
    "class Employee:\n",
    "    \n",
    "    def __init__(self,employeeName,employeeAge,employeeSalary):\n",
    "        self.getEmployee = employeeName\n",
    "        self.getEmployeeAge = employeeAge\n",
    "        self.getEmployeeSalary = employeeSalary\n",
    "        \n",
    "    def displayInfo(self):\n",
    "        print(\"Name:\",(self.getEmployee))\n",
    "        print(\"Age :\",(self.getEmployeeAge))\n",
    "        print(\"Salary:\",self.getEmployeeSalary)\n"
   ]
  },
  {
   "cell_type": "code",
   "execution_count": 62,
   "metadata": {
    "collapsed": true
   },
   "outputs": [],
   "source": [
    "employee1 = Employee(\"Marcos\",45,40000)"
   ]
  },
  {
   "cell_type": "code",
   "execution_count": 63,
   "metadata": {},
   "outputs": [
    {
     "name": "stdout",
     "output_type": "stream",
     "text": [
      "('Name:', 'Marcos')\n",
      "('Age :', 45)\n",
      "('Salary:', 40000)\n"
     ]
    }
   ],
   "source": [
    "employee1.displayInfo()"
   ]
  },
  {
   "cell_type": "markdown",
   "metadata": {},
   "source": [
    "#### Exercise 3 - Private members\n",
    "\n",
    "In the above **Employee** class make the employeeName, employeeAge and employeeSalary private so that their access is restricted to only within the class."
   ]
  },
  {
   "cell_type": "code",
   "execution_count": 74,
   "metadata": {
    "collapsed": true
   },
   "outputs": [],
   "source": [
    "class Employee:\n",
    "    \n",
    "    def __init__(self,employeeName,employeeAge,employeeSalary):\n",
    "        self.__getEmployee = employeeName\n",
    "        self.__getEmployeeAge = employeeAge\n",
    "        self.__getEmployeeSalary = employeeSalary\n",
    "                \n",
    "    def displayInfo(self):\n",
    "        print(\"Name:\",self.__getEmployee)\n",
    "        print(\"Age :\",self.__getEmployeeAge)\n",
    "        print(\"Salary:\",self.__getEmployeeSalary)"
   ]
  },
  {
   "cell_type": "code",
   "execution_count": 75,
   "metadata": {
    "collapsed": true
   },
   "outputs": [],
   "source": [
    "employee1 = Employee(\"Marcos\",45,40000)"
   ]
  },
  {
   "cell_type": "code",
   "execution_count": 76,
   "metadata": {},
   "outputs": [
    {
     "name": "stdout",
     "output_type": "stream",
     "text": [
      "('Name:', 'Marcos')\n",
      "('Age :', 45)\n",
      "('Salary:', 40000)\n"
     ]
    }
   ],
   "source": [
    "employee1.displayInfo()"
   ]
  },
  {
   "cell_type": "code",
   "execution_count": 5,
   "metadata": {
    "collapsed": true
   },
   "outputs": [],
   "source": [
    "employee1= Employee(\"Marcos\",45,30000)"
   ]
  },
  {
   "cell_type": "code",
   "execution_count": 6,
   "metadata": {},
   "outputs": [
    {
     "name": "stdout",
     "output_type": "stream",
     "text": [
      "('Name:', 'Marcos')\n",
      "('Age :', 45)\n",
      "('Salary:', 30000)\n"
     ]
    }
   ],
   "source": [
    "employee1.displayInfo()"
   ]
  },
  {
   "cell_type": "markdown",
   "metadata": {},
   "source": [
    "#### Exercise 4 - Adding setters and working with a list of Employees\n",
    "\n",
    "In the **Employee** class add the following methods\n",
    "\n",
    "```\n",
    "1. setEmployeeAge - accepts age and sets it in the object\n",
    "2. setEmployeeName - accepts employee name and sets it in the object\n",
    "3. setEmployeeSalary - accepts employee salary and sets it i nthe object\n",
    "```\n",
    "\n",
    "Create a list of employees called employeeList. Initialize the list with three objects of type Employee. Initialize the object with the values \"None\" for employeeName, 0 for employeeAge and 0 for employeeSalary.\n",
    "\n",
    "Loop  through each employee in the employeeList. Each time, request the user to enter the name, age and salary of a different employee. Use the set methods to set the name, age and salary for each employee in the employeeList.\n",
    "\n",
    "Loop through each employee in the employeeList. Display the name, age and salary of each employee."
   ]
  },
  {
   "cell_type": "code",
   "execution_count": 84,
   "metadata": {},
   "outputs": [
    {
     "name": "stdout",
     "output_type": "stream",
     "text": [
      "Enter Employee Name('x' to exit): Tesa\n",
      "Enter Employee Age: 33\n",
      "Enter Employee Salary: 4000\n"
     ]
    },
    {
     "ename": "NameError",
     "evalue": "name 'employee' is not defined",
     "output_type": "error",
     "traceback": [
      "\u001b[0;31m---------------------------------------------------------------------------\u001b[0m",
      "\u001b[0;31mNameError\u001b[0m                                 Traceback (most recent call last)",
      "\u001b[0;32m<ipython-input-84-8273b50b8138>\u001b[0m in \u001b[0;36m<module>\u001b[0;34m()\u001b[0m\n\u001b[1;32m      1\u001b[0m \u001b[0;31m### YOUR CODE GOES BELOW\u001b[0m\u001b[0;34m\u001b[0m\u001b[0;34m\u001b[0m\u001b[0m\n\u001b[0;32m----> 2\u001b[0;31m \u001b[0;32mclass\u001b[0m \u001b[0mEmployee\u001b[0m\u001b[0;34m:\u001b[0m\u001b[0;34m\u001b[0m\u001b[0m\n\u001b[0m\u001b[1;32m      3\u001b[0m \u001b[0;34m\u001b[0m\u001b[0m\n\u001b[1;32m      4\u001b[0m     \u001b[0;32mdef\u001b[0m \u001b[0mdisplayInfo\u001b[0m\u001b[0;34m(\u001b[0m\u001b[0mself\u001b[0m\u001b[0;34m)\u001b[0m\u001b[0;34m:\u001b[0m\u001b[0;34m\u001b[0m\u001b[0m\n\u001b[1;32m      5\u001b[0m \u001b[0;34m\u001b[0m\u001b[0m\n",
      "\u001b[0;32m<ipython-input-84-8273b50b8138>\u001b[0m in \u001b[0;36mEmployee\u001b[0;34m()\u001b[0m\n\u001b[1;32m     14\u001b[0m         \u001b[0mage\u001b[0m \u001b[0;34m=\u001b[0m \u001b[0mint\u001b[0m\u001b[0;34m(\u001b[0m\u001b[0mraw_input\u001b[0m\u001b[0;34m(\u001b[0m\u001b[0;34m\"Enter Employee Age: \"\u001b[0m\u001b[0;34m)\u001b[0m\u001b[0;34m)\u001b[0m\u001b[0;34m\u001b[0m\u001b[0m\n\u001b[1;32m     15\u001b[0m         \u001b[0msalary\u001b[0m \u001b[0;34m=\u001b[0m \u001b[0mint\u001b[0m\u001b[0;34m(\u001b[0m\u001b[0mraw_input\u001b[0m\u001b[0;34m(\u001b[0m\u001b[0;34m\"Enter Employee Salary: \"\u001b[0m\u001b[0;34m)\u001b[0m\u001b[0;34m)\u001b[0m\u001b[0;34m\u001b[0m\u001b[0m\n\u001b[0;32m---> 16\u001b[0;31m         \u001b[0memployee\u001b[0m\u001b[0;34m.\u001b[0m\u001b[0msetEmployeeName\u001b[0m\u001b[0;34m(\u001b[0m\u001b[0mname\u001b[0m\u001b[0;34m)\u001b[0m\u001b[0;34m\u001b[0m\u001b[0m\n\u001b[0m\u001b[1;32m     17\u001b[0m         \u001b[0memployee\u001b[0m\u001b[0;34m.\u001b[0m\u001b[0msetEmployeeAge\u001b[0m\u001b[0;34m(\u001b[0m\u001b[0mage\u001b[0m\u001b[0;34m)\u001b[0m\u001b[0;34m\u001b[0m\u001b[0m\n\u001b[1;32m     18\u001b[0m         \u001b[0memployee\u001b[0m\u001b[0;34m.\u001b[0m\u001b[0msetEmployeeSalary\u001b[0m\u001b[0;34m(\u001b[0m\u001b[0msalary\u001b[0m\u001b[0;34m)\u001b[0m\u001b[0;34m\u001b[0m\u001b[0m\n",
      "\u001b[0;31mNameError\u001b[0m: name 'employee' is not defined"
     ]
    }
   ],
   "source": [
    "### YOUR CODE GOES BELOW\n",
    "class Employee:\n",
    "    \n",
    "    def displayInfo(self):\n",
    "        \n",
    "        return [self.__name, self.__age, self.__salary] \n",
    "    \n",
    "        employeelist = []\n",
    "        employee = Employee(\"None\", 0, 0)\n",
    "        \n",
    "\n",
    "    while True:\n",
    "        name = raw_input(\"Enter Employee Name('x' to exit): \")\n",
    "        age = int(raw_input(\"Enter Employee Age: \"))\n",
    "        salary = int(raw_input(\"Enter Employee Salary: \"))\n",
    "        employee.setEmployeeName(name)\n",
    "        employee.setEmployeeAge(age)\n",
    "        employee.setEmployeeSalary(salary)\n",
    "        employeeList.append(Employee.result())\n",
    "    \n",
    "        \n",
    "    if name.lower() == \"x\":\n",
    "        sys.exit(\"successful termination\") \n",
    "    print employeelist"
   ]
  },
  {
   "cell_type": "markdown",
   "metadata": {},
   "source": [
    "#### Exercise 5 -  Creating a Python calculator class\n",
    "\n",
    "Create a Python class called Calculator. \n",
    "\n",
    "The class has the following data members\n",
    "\n",
    "```\n",
    "1. number1 - type float\n",
    "2. number2 - type float\n",
    "```\n",
    "\n",
    "The class must have the below methods\n",
    "\n",
    "```\n",
    "1. add - adds two numbers and returns the result\n",
    "2. subtract - subtracts the first number from the second number and returns the result\n",
    "3. multiply - multiply two numbers and returns the result\n",
    "4. divide - divide the first number by the second number and returns the result\n",
    "5. __init__ - accepts two numbers and uses those numbers to initialize number1 and number2 respectively\n",
    "```\n",
    "\n",
    "Create an object of the Calculator class. Initialize it with any two arbitrary numbers. Invoke the methods add, subtract, multiple and divide and display the result\n",
    "\n",
    "\n"
   ]
  },
  {
   "cell_type": "code",
   "execution_count": 77,
   "metadata": {
    "collapsed": true
   },
   "outputs": [],
   "source": [
    "### YOUR CODE GOES \n",
    "\n",
    "class Calculator:\n",
    "    def __init__(self,n1,n2):\n",
    "        self.n1 = n1\n",
    "        self.n2 = n2\n",
    "\n",
    "    def add(self):\n",
    "        return (self.n1 + self.n2)\n",
    "    \n",
    "    def subtract(self):\n",
    "        return (self.n1 - self.n2)\n",
    "    \n",
    "    def multiply(self):\n",
    "        return (self.n1 * self.n2)\n",
    "    \n",
    "    def divide(self):\n",
    "        return (self.n1 / self.n2)\n",
    "    \n",
    "    def __str__(self):\n",
    "        result = \"\\n Add:\"+ str(self.add())\n",
    "        result += \"\\n Subtract:\"+ str(self.subtract())\n",
    "        result += \"\\n Multiply:\"+ str(self.multiply())\n",
    "        result += \"\\n Divide:\"+ str(self.divide())\n",
    "        \n",
    "        return result\n",
    "### END CODE"
   ]
  },
  {
   "cell_type": "code",
   "execution_count": 78,
   "metadata": {
    "collapsed": true
   },
   "outputs": [],
   "source": [
    "calc = Calculator (10,6)"
   ]
  },
  {
   "cell_type": "code",
   "execution_count": 79,
   "metadata": {},
   "outputs": [
    {
     "name": "stdout",
     "output_type": "stream",
     "text": [
      "\n",
      " Add:16\n",
      " Subtract:4\n",
      " Multiply:60\n",
      " Divide:1\n"
     ]
    }
   ],
   "source": [
    "print calc"
   ]
  },
  {
   "cell_type": "markdown",
   "metadata": {},
   "source": [
    "# Optional Exercise"
   ]
  },
  {
   "cell_type": "markdown",
   "metadata": {},
   "source": [
    "#### Exercise 6"
   ]
  },
  {
   "cell_type": "markdown",
   "metadata": {
    "collapsed": true
   },
   "source": [
    "In the next two problems, you’ll be building an address book using object-­‐oriented programming in Python. To begin, you’ll define a Person class. You’ll use this class in the next problem to build your address book – each entry in your address book will be an instance of the Person class.\n",
    "\n",
    "To begin, define the    init    and    str    methods for the Person class. Read the Python documentation if needed to help you understand what    init__ and    str \t need to do.\n",
    "\n",
    "Here’s an example interaction in the Python shell demonstrating how your class should work after implementing these two methods:"
   ]
  },
  {
   "cell_type": "raw",
   "metadata": {},
   "source": [
    "Emily = Person(“Zhang”, “Emily”, “5559358150”, “emzhang@mit.edu”)\n",
    "print Emily\n",
    "Zhang, Emily -- Phone Number: 5559358150 -- Email Address(es): emzhang@mit.edu\n",
    "Wesley = Person(“Graybill”, “Wesley”, “5551940325”, [‘wgray496@mit.edu’, ‘wdgraybill@gmail.com’])\n",
    "print Wesley\n",
    "Graybill, Wesley -- Phone Number: 5551940325 -- Email Address(es): wgray496@mit.edu, wdgraybill@gmail.com"
   ]
  },
  {
   "cell_type": "code",
   "execution_count": null,
   "metadata": {
    "collapsed": true
   },
   "outputs": [],
   "source": [
    "### YOUR CODE GOES \n",
    "\n",
    "\n",
    "### END CODE"
   ]
  },
  {
   "cell_type": "markdown",
   "metadata": {},
   "source": [
    "#### Exercise 7"
   ]
  },
  {
   "cell_type": "markdown",
   "metadata": {},
   "source": [
    "In this problem, you will use your Person class from the previous problem to create an address book for storing the contacts of your friends and family. It should allow you to search the address book for a friend, and return their contact information.\n",
    "\n",
    "Begin by defining an   init   method. Don’t forget about Python's built-­‐in dictionary data type.\n",
    "\n",
    "Next, write a method add_contact that allows you to add a new person to the address book.\n",
    "\n",
    "Finally, write a method lookup_contact that looks up a contact by last name. The method should accept the last name as an argument, and print each contact that matches the last name on a new line. As an additional challenge, extend this method to allow users to optionally specify a first name to narrow down the results when multiple contacts have the same last name. To learn more about optional arguments in Python, search for terms such as “optional arguments in Python” and “default arguments in Python”.\n",
    "\n",
    "For example, suppose the contact book contains entries for both Ali Kamil, and his wife Sama Kamil. The following is an example output:\n"
   ]
  },
  {
   "cell_type": "raw",
   "metadata": {},
   "source": [
    ">>> a = AddressBook()\n",
    ">>> a.add_person(Person(“Kamil”, “Ali”, … ))\n",
    ">>> a.add_person(Person(“Kamil”, “Sama”, … ))\n",
    ">>> a.lookup_contact(“Kamil”) Kamil, Ali -- Phone Number: … Kamil, Sama -- Phone Number: …\n",
    ">>> a.lookup_contact(“Kamil”, “Ali”)\n",
    "Kamil, Ali -- Phone Number: …\n"
   ]
  },
  {
   "cell_type": "code",
   "execution_count": 6,
   "metadata": {
    "collapsed": true
   },
   "outputs": [],
   "source": [
    "### YOUR CODE GOES \n",
    "\n",
    "\n",
    "### END CODE"
   ]
  },
  {
   "cell_type": "code",
   "execution_count": null,
   "metadata": {
    "collapsed": true
   },
   "outputs": [],
   "source": []
  }
 ],
 "metadata": {
  "kernelspec": {
   "display_name": "Python 2",
   "language": "python",
   "name": "python2"
  },
  "language_info": {
   "codemirror_mode": {
    "name": "ipython",
    "version": 2
   },
   "file_extension": ".py",
   "mimetype": "text/x-python",
   "name": "python",
   "nbconvert_exporter": "python",
   "pygments_lexer": "ipython2",
   "version": "2.7.14"
  }
 },
 "nbformat": 4,
 "nbformat_minor": 2
}
